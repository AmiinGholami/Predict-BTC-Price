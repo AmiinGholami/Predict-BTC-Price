{
 "cells": [
  {
   "cell_type": "code",
   "execution_count": 101,
   "id": "929483d5-e933-40da-9779-6682556a8fb8",
   "metadata": {},
   "outputs": [],
   "source": [
    "import matplotlib.pyplot as plt\n",
    "import pandas as pd\n",
    "import pylab as pl\n",
    "import numpy as np\n",
    "%matplotlib inline\n",
    "import seaborn as sns\n",
    "from sklearn.model_selection import train_test_split\n",
    "from sklearn.linear_model import LinearRegression\n",
    "from sklearn.metrics import mean_squared_error, r2_score"
   ]
  },
  {
   "cell_type": "code",
   "execution_count": 105,
   "id": "7d925fc5-e417-4b62-80e2-c8d525d5a510",
   "metadata": {},
   "outputs": [
    {
     "name": "stdout",
     "output_type": "stream",
     "text": [
      "         Date Price  Open  High   Low    Vol. Change %\n",
      "0  01/01/2013  13.3  13.5  13.6  13.2  28.41K   -1.55%\n",
      "1  01/02/2013  13.3  13.3  13.4  13.2  17.97K    0.00%\n",
      "2  01/03/2013  13.4  13.3  13.5  13.3  18.03K    0.90%\n",
      "3  01/04/2013  13.5  13.4  13.5  13.3  29.64K    0.75%\n",
      "4  01/05/2013  13.4  13.5  13.6  13.3  21.33K   -0.44%\n"
     ]
    }
   ],
   "source": [
    "file_path = '/Users/amiin/My Mac/Jadi/ML/My Project/CSVs/Bitcoin.csv' \n",
    "df = pd.read_csv(file_path)\n",
    "\n",
    "df = df.iloc[::-1].reset_index(drop=True)\n",
    "print(df.head())"
   ]
  },
  {
   "cell_type": "code",
   "execution_count": 107,
   "id": "95ac6294-e511-4bb9-8ddf-4b9f6cfe9b45",
   "metadata": {},
   "outputs": [
    {
     "name": "stdout",
     "output_type": "stream",
     "text": [
      "<class 'pandas.core.frame.DataFrame'>\n",
      "RangeIndex: 4127 entries, 0 to 4126\n",
      "Data columns (total 7 columns):\n",
      " #   Column    Non-Null Count  Dtype \n",
      "---  ------    --------------  ----- \n",
      " 0   Date      4127 non-null   object\n",
      " 1   Price     4127 non-null   object\n",
      " 2   Open      4127 non-null   object\n",
      " 3   High      4127 non-null   object\n",
      " 4   Low       4127 non-null   object\n",
      " 5   Vol.      4127 non-null   object\n",
      " 6   Change %  4127 non-null   object\n",
      "dtypes: object(7)\n",
      "memory usage: 225.8+ KB\n",
      "None\n"
     ]
    }
   ],
   "source": [
    "print(df.info())"
   ]
  },
  {
   "cell_type": "code",
   "execution_count": 123,
   "id": "36031ec1-aa15-40ed-bb7d-63a5d97afbe3",
   "metadata": {
    "scrolled": true
   },
   "outputs": [
    {
     "name": "stdout",
     "output_type": "stream",
     "text": [
      "            Date      Open      High       Low     Vol. Change %     Price\n",
      "0     01/01/2013      13.5      13.6      13.2   28.41K   -1.55%      13.3\n",
      "1     01/02/2013      13.3      13.4      13.2   17.97K    0.00%      13.3\n",
      "2     01/03/2013      13.3      13.5      13.3   18.03K    0.90%      13.4\n",
      "3     01/04/2013      13.4      13.5      13.3   29.64K    0.75%      13.5\n",
      "4     01/05/2013      13.5      13.6      13.3   21.33K   -0.44%      13.4\n",
      "...          ...       ...       ...       ...      ...      ...       ...\n",
      "4122  04/15/2024  65,696.6  66,805.1  62,379.5  118.79K   -3.48%  63,411.9\n",
      "4123  04/16/2024  63,416.1  64,274.4  61,715.6  114.96K    0.62%  63,805.3\n",
      "4124  04/17/2024  63,802.3  64,451.5  59,820.8  118.92K   -3.96%  61,278.9\n",
      "4125  04/18/2024  61,278.9  64,092.4  60,822.3   97.38K    3.59%  63,481.4\n",
      "4126  04/19/2024  63,480.5  65,441.2  59,693.3  118.98K    1.49%  64,428.5\n",
      "\n",
      "[4127 rows x 7 columns]\n"
     ]
    }
   ],
   "source": [
    "cdf = df[['Date','Open','High','Low','Vol.','Change %','Price']]\n",
    "rdf = df[['Open','High','Low','Vol.','Change %','Price']]\n",
    "print(cdf)"
   ]
  },
  {
   "cell_type": "code",
   "execution_count": 125,
   "id": "4bf5d3d6-67fa-469c-87d9-eb1e99abe8f5",
   "metadata": {},
   "outputs": [
    {
     "name": "stdout",
     "output_type": "stream",
     "text": [
      "          Open      High       Low     Vol. Change %     Price\n",
      "0         13.5      13.6      13.2   28.41K   -1.55%      13.3\n",
      "1         13.3      13.4      13.2   17.97K    0.00%      13.3\n",
      "2         13.3      13.5      13.3   18.03K    0.90%      13.4\n",
      "3         13.4      13.5      13.3   29.64K    0.75%      13.5\n",
      "4         13.5      13.6      13.3   21.33K   -0.44%      13.4\n",
      "...        ...       ...       ...      ...      ...       ...\n",
      "4122  65,696.6  66,805.1  62,379.5  118.79K   -3.48%  63,411.9\n",
      "4123  63,416.1  64,274.4  61,715.6  114.96K    0.62%  63,805.3\n",
      "4124  63,802.3  64,451.5  59,820.8  118.92K   -3.96%  61,278.9\n",
      "4125  61,278.9  64,092.4  60,822.3   97.38K    3.59%  63,481.4\n",
      "4126  63,480.5  65,441.2  59,693.3  118.98K    1.49%  64,428.5\n",
      "\n",
      "[4127 rows x 6 columns]\n"
     ]
    }
   ],
   "source": [
    "print(rdf)"
   ]
  },
  {
   "cell_type": "code",
   "execution_count": 127,
   "id": "46c144fe-8270-4f09-927e-dfda3d8c2cc6",
   "metadata": {},
   "outputs": [
    {
     "name": "stdout",
     "output_type": "stream",
     "text": [
      "          Open      High       Low     Vol.  Change %     Price\n",
      "0         13.5      13.6      13.2   28.41K     -1.55      13.3\n",
      "1         13.3      13.4      13.2   17.97K      0.00      13.3\n",
      "2         13.3      13.5      13.3   18.03K      0.90      13.4\n",
      "3         13.4      13.5      13.3   29.64K      0.75      13.5\n",
      "4         13.5      13.6      13.3   21.33K     -0.44      13.4\n",
      "...        ...       ...       ...      ...       ...       ...\n",
      "4122  65,696.6  66,805.1  62,379.5  118.79K     -3.48  63,411.9\n",
      "4123  63,416.1  64,274.4  61,715.6  114.96K      0.62  63,805.3\n",
      "4124  63,802.3  64,451.5  59,820.8  118.92K     -3.96  61,278.9\n",
      "4125  61,278.9  64,092.4  60,822.3   97.38K      3.59  63,481.4\n",
      "4126  63,480.5  65,441.2  59,693.3  118.98K      1.49  64,428.5\n",
      "\n",
      "[4127 rows x 6 columns]\n"
     ]
    },
    {
     "name": "stderr",
     "output_type": "stream",
     "text": [
      "/var/folders/rp/jsdh10cj68lf8yq9pr76clp80000gn/T/ipykernel_3363/3874726870.py:1: SettingWithCopyWarning: \n",
      "A value is trying to be set on a copy of a slice from a DataFrame.\n",
      "Try using .loc[row_indexer,col_indexer] = value instead\n",
      "\n",
      "See the caveats in the documentation: https://pandas.pydata.org/pandas-docs/stable/user_guide/indexing.html#returning-a-view-versus-a-copy\n",
      "  rdf['Change %'] = rdf['Change %'].astype(str)\n",
      "/var/folders/rp/jsdh10cj68lf8yq9pr76clp80000gn/T/ipykernel_3363/3874726870.py:3: SettingWithCopyWarning: \n",
      "A value is trying to be set on a copy of a slice from a DataFrame.\n",
      "Try using .loc[row_indexer,col_indexer] = value instead\n",
      "\n",
      "See the caveats in the documentation: https://pandas.pydata.org/pandas-docs/stable/user_guide/indexing.html#returning-a-view-versus-a-copy\n",
      "  rdf['Change %'] = rdf['Change %'].str.rstrip('%').astype(float)\n"
     ]
    }
   ],
   "source": [
    "rdf['Change %'] = rdf['Change %'].astype(str)\n",
    "\n",
    "rdf['Change %'] = rdf['Change %'].str.rstrip('%').astype(float)\n",
    "\n",
    "print(rdf)"
   ]
  },
  {
   "cell_type": "code",
   "execution_count": 129,
   "id": "7e10845c-af48-4f65-b9bf-5e01bfca3fca",
   "metadata": {},
   "outputs": [
    {
     "data": {
      "image/png": "[encoded data removed]",
      "text/plain": [
       "<Figure size 640x480 with 1 Axes>"
      ]
     },
     "metadata": {},
     "output_type": "display_data"
    }
   ],
   "source": [
    "plt.scatter(df.Date, df.Price, color='blue')\n",
    "plt.xlabel(\"Open\")\n",
    "plt.ylabel(\"Price\")\n",
    "plt.show()"
   ]
  },
  {
   "cell_type": "code",
   "execution_count": null,
   "id": "d1b3514a-aae8-4749-9e3d-ef2951d0d40c",
   "metadata": {},
   "outputs": [],
   "source": [
    "plt.figure(figsize=(10, 6))\n",
    "sns.scatterplot(x='Date', y='Price', data=df)\n",
    "plt.title('Scatter plot of Date vs. Price')\n",
    "plt.show()"
   ]
  },
  {
   "cell_type": "code",
   "execution_count": null,
   "id": "d18a9f5c-da40-4615-864d-017c11cf17b8",
   "metadata": {},
   "outputs": [],
   "source": [
    "msk = np.random.rand(len(df)) < 0.8\n",
    "train = cdf[msk]\n",
    "test = cdf[~msk]"
   ]
  },
  {
   "cell_type": "code",
   "execution_count": null,
   "id": "8a34cc1e-3956-402b-8fa2-3fee0e335ee1",
   "metadata": {},
   "outputs": [],
   "source": [
    "from sklearn import linear_model\n",
    "regr = linear_model.LinearRegression()\n",
    "x = np.asanyarray(train[['Open','High','Low','Vol.','Change %']])\n",
    "y = np.asanyarray(train[['Price']])\n",
    "regr.fit (x, y)\n",
    "# The coefficients\n",
    "print ('Coefficients: ', regr.coef_)"
   ]
  },
  {
   "cell_type": "code",
   "execution_count": null,
   "id": "fc232b48-3b1a-49dd-873b-be450a9edcd0",
   "metadata": {},
   "outputs": [],
   "source": []
  }
 ],
 "metadata": {
  "kernelspec": {
   "display_name": "Python 3 (ipykernel)",
   "language": "python",
   "name": "python3"
  },
  "language_info": {
   "codemirror_mode": {
    "name": "ipython",
    "version": 3
   },
   "file_extension": ".py",
   "mimetype": "text/x-python",
   "name": "python",
   "nbconvert_exporter": "python",
   "pygments_lexer": "ipython3",
   "version": "3.11.7"
  }
 },
 "nbformat": 4,
 "nbformat_minor": 5
}
